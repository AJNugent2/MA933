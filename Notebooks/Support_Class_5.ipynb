{
 "cells": [
  {
   "cell_type": "markdown",
   "metadata": {},
   "source": [
    "# Support Class 5 - Problem sheet 4"
   ]
  },
  {
   "cell_type": "code",
   "execution_count": 1,
   "metadata": {},
   "outputs": [],
   "source": [
    "# Load some packages \n",
    "# (if you get an error, you need to install the package in the terminal)\n",
    "import numpy as np                #scientific computing\n",
    "from scipy.stats import multivariate_normal   #for probability distributions\n",
    "from scipy.stats import norm                   #for probability distributions\n",
    "import scipy.linalg               #for e'values/vectors\n",
    "import matplotlib.pyplot as plt   #plotting\n",
    "import seaborn as sns             #helps with data manipulation/plotting\n",
    "import math                       #calculating exponentials below"
   ]
  },
  {
   "cell_type": "markdown",
   "metadata": {},
   "source": [
    "#### Question 2 -  Contact Process"
   ]
  },
  {
   "cell_type": "markdown",
   "metadata": {},
   "source": [
    "Consider the contact processs $(\\mathbf{\\eta}_t : t \\geq 0)$ with only nearest neighbour connections $q(i,j) = q(j,i) = \\lambda \\delta_{j,i+1}$ and periodic BCs.\n",
    "\n",
    "Use the Gillespie (or random sequential update) algorithm to simulate the process with initial condition $\\mathbf{\\eta}_{t=0} = \\mathbf{1}$\n",
    "\n",
    "\n",
    "The rates of flipping the state i is:\n",
    "\n",
    "$$ c(\\mathbf{\\eta} ,\\mathbf{\\eta}^i ) = \\mathbf{\\eta}(i) + \\lambda \\big( 1 - \\mathbf{\\eta}(i) \\big) \\big( \\mathbf{\\eta}(i+1) + \\mathbf{\\eta}(i-1) \\big). $$\n",
    "\n",
    "Therefore the rates at i are: 1 for recovery, $\\lambda$ for infection with one infected neighbour, and $2\\lambda$ for two infected neighbours.\n",
    "\n",
    "First we set up the Gillespie algorithm."
   ]
  },
  {
   "cell_type": "code",
   "execution_count": 2,
   "metadata": {
    "scrolled": true
   },
   "outputs": [],
   "source": [
    "#Define a function that runs the contact process\n",
    "\n",
    "#Input parameters:\n",
    "#sims = 10      #number of independent simulations\n",
    "#λ = 1.62       #rate of infection\n",
    "#L = 128        #number of individuals (states)\n",
    "#tmax = 10*L    #maximum runtime\n",
    "#step = 50      #number of time points to record the state η at  \n",
    "\n",
    "def CP(sims,λ,L,tmax,steps):\n",
    "    \n",
    "    #time chunk after which we record the current state\n",
    "    Δt = tmax/steps\n",
    "\n",
    "    #store total infected (sum of all states) after each simulation (at each time)\n",
    "    N = np.zeros((sims,steps+1))\n",
    "\n",
    "    # loop for each simulation\n",
    "    for i in range(0,sims):\n",
    "        \n",
    "        η = np.zeros((L,steps+1))   #array to store each state at each time chunk\n",
    "        η[:,0] = 1                  #initially all start infected (1 = infected, 0 = recovered)\n",
    "        \n",
    "        #while loop to simuate Gillespie algorithm\n",
    "        t = 0                    #initial time\n",
    "        k = 1                    #time chunk counter\n",
    "        state = np.ones((L,))    #current state of population (initially all infected)\n",
    "        while t < tmax:\n",
    "            \n",
    "            #this loop carries out multiple Gillespie updates (save at each Δt)\n",
    "            while t < k*Δt:\n",
    "                \n",
    "                #shifts the current state to use the formula above (incorporating BCs)\n",
    "                state_plus = np.append(state[1:L],state[0])\n",
    "                state_minus = np.append(state[L-1],state[0:L-1]) \n",
    "\n",
    "                #find contact rates for each state\n",
    "                C = state + λ*(1 - state)*(state_plus + state_minus)\n",
    "                R = np.sum(C)    #total rate\n",
    "                p = C/R          #probabilities of flipping\n",
    "                \n",
    "                if R == 0.0:  #stops loop when no infected left\n",
    "                    break\n",
    "\n",
    "                #select a state at random according to the probabilities\n",
    "                index = np.random.choice(range(0,L),1,replace=True,p = p)\n",
    "\n",
    "                #flip the state\n",
    "                state[index] = 1 - state[index]\n",
    "\n",
    "                #increase the time (i.e. when the event occured)\n",
    "                t = t + np.random.exponential(1/R)\n",
    "                #then either do another update (if t < kΔt) or save the state\n",
    "                \n",
    "            η[:,k] = state  #save the state\n",
    "            k = k + 1       #consider next time chunk\n",
    "\n",
    "            if R == 0.0:  #stops loop when no infected left\n",
    "                break\n",
    "        \n",
    "        \n",
    "        #sum over states at each time and store the process N(t) (for this simulation)\n",
    "        N[i,:] = np.sum(η,axis=0)\n",
    "        \n",
    "        #this statement check whether any of the final states were 'jumped' over\n",
    "        # and saves the corresponding steps.\n",
    "        if k < steps+1:\n",
    "            N[i,k:steps+1] = N[i,k-1]\n",
    "            \n",
    "\n",
    "    return N"
   ]
  },
  {
   "cell_type": "code",
   "execution_count": 3,
   "metadata": {
    "scrolled": false
   },
   "outputs": [],
   "source": [
    "#Test it out:\n",
    "sims = 3       #independent simulations\n",
    "λ = 1.62       #rate of infection\n",
    "L = 128        #number of individuals\n",
    "tmax = 5*L    #maximum runtime\n",
    "steps = 100     #number of output times (multiple recoveries/infections may occur in each delta t - avoid using a growing array)\n",
    "\n",
    "N = CP(sims,λ,L,tmax,steps)"
   ]
  },
  {
   "cell_type": "code",
   "execution_count": 4,
   "metadata": {},
   "outputs": [
    {
     "data": {
      "text/plain": [
       "(array([  0.,  20.,  40.,  60.,  80., 100., 120., 140.]),\n",
       " [Text(0, 0, ''),\n",
       "  Text(0, 0, ''),\n",
       "  Text(0, 0, ''),\n",
       "  Text(0, 0, ''),\n",
       "  Text(0, 0, ''),\n",
       "  Text(0, 0, ''),\n",
       "  Text(0, 0, ''),\n",
       "  Text(0, 0, '')])"
      ]
     },
     "execution_count": 4,
     "metadata": {},
     "output_type": "execute_result"
    },
    {
     "data": {
      "image/png": "[encoded data removed]",
      "text/plain": [
       "<Figure size 720x576 with 1 Axes>"
      ]
     },
     "metadata": {
      "needs_background": "light"
     },
     "output_type": "display_data"
    }
   ],
   "source": [
    "#plot the results\n",
    "plt.figure(figsize=(10,8))\n",
    "plt.plot(np.arange(0,tmax+(tmax/steps),tmax/steps),N[0,:],label='Sim. 1')\n",
    "plt.plot(np.arange(0,tmax+(tmax/steps),tmax/steps),N[1,:],label='Sim. 2')\n",
    "plt.plot(np.arange(0,tmax+(tmax/steps),tmax/steps),N[2,:],label='Sim. 3')\n",
    "# plt.plot(np.arange(0,tmax+(tmax/steps),tmax/steps),N[3,:],label='Sim. 4')\n",
    "# plt.plot(np.arange(0,tmax+(tmax/steps),tmax/steps),N[4,:],label='Sim. 5')\n",
    "plt.legend()\n",
    "plt.xlabel('$t$', fontsize = 20)\n",
    "plt.ylabel('Number of infected individuals $N_t$', fontsize = 20)\n",
    "plt.grid()\n",
    "plt.xticks(fontsize = 16)\n",
    "plt.yticks(fontsize = 16)"
   ]
  },
  {
   "cell_type": "markdown",
   "metadata": {},
   "source": [
    "#### Question 2(a)(i)\n",
    "\n",
    "Simulate the process for $L = 128, 256, 512, 1024$ and parameters λ = 1.62, . . . , 1.68 with 0.01 increments (7 values) with at least 500 realizations each.\n",
    "\n",
    "For each $L$, plot the number of infected individuals $N_t = \\sum_{i \\in \\Lambda_L} \\mathbf{\\eta}_t (i)$ averaged over realizations as a function of time up to time $10 × L$ for all values of λ above in a single double-logarithmic plot. Use the curvature of the plots to estimate $\\lambda_c (L)$. \n"
   ]
  },
  {
   "cell_type": "code",
   "execution_count": null,
   "metadata": {
    "scrolled": false
   },
   "outputs": [
    {
     "name": "stderr",
     "output_type": "stream",
     "text": [
      "<ipython-input-2-1a5c7e896903>:40: RuntimeWarning: invalid value encountered in true_divide\n",
      "  p = C/R          #probabilities of flipping\n"
     ]
    }
   ],
   "source": [
    "# Input parameters:\n",
    "sims = 5      #independent simulations\n",
    "λ = np.arange(1.62,1.69,0.01)\n",
    "L = 128         #number of individuals\n",
    "tmax = 10*L     #maximum runtime\n",
    "steps = 100     #number of output times (multiple recoveries/infections may occur in each delta t - avoid using a growing array)\n",
    "\n",
    "N1 = CP(sims,λ[0],L,tmax,steps)\n",
    "N2 = CP(sims,λ[1],L,tmax,steps)\n",
    "N3 = CP(sims,λ[2],L,tmax,steps)\n",
    "N4 = CP(sims,λ[3],L,tmax,steps)\n",
    "N5 = CP(sims,λ[4],L,tmax,steps)\n",
    "N6 = CP(sims,λ[5],L,tmax,steps)\n",
    "N7 = CP(sims,λ[6],L,tmax,steps)\n",
    "\n",
    "N1 = np.sum(N1,axis=0)/sims\n",
    "N2 = np.sum(N2,axis=0)/sims\n",
    "N3 = np.sum(N3,axis=0)/sims\n",
    "N4 = np.sum(N4,axis=0)/sims\n",
    "N5 = np.sum(N5,axis=0)/sims\n",
    "N6 = np.sum(N6,axis=0)/sims\n",
    "N7 = np.sum(N7,axis=0)/sims"
   ]
  },
  {
   "cell_type": "code",
   "execution_count": null,
   "metadata": {},
   "outputs": [],
   "source": [
    "#plot the results\n",
    "plt.figure(figsize=(10,8))\n",
    "plt.plot(np.arange(0,tmax+1,tmax/steps),N1,label='$\\lambda = 1.62$')\n",
    "plt.plot(np.arange(0,tmax+1,tmax/steps),N2,label='$\\lambda = 1.63$')\n",
    "plt.plot(np.arange(0,tmax+1,tmax/steps),N3,label='$\\lambda = 1.64$')\n",
    "plt.plot(np.arange(0,tmax+1,tmax/steps),N4,label='$\\lambda = 1.65$')\n",
    "plt.plot(np.arange(0,tmax+1,tmax/steps),N5,label='$\\lambda = 1.66$')\n",
    "plt.plot(np.arange(0,tmax+1,tmax/steps),N6,label='$\\lambda = 1.67$')\n",
    "plt.plot(np.arange(0,tmax+1,tmax/steps),N7,label='$\\lambda = 1.68$')\n",
    "plt.xscale('log')\n",
    "plt.yscale('log')\n",
    "plt.legend()\n",
    "plt.xlabel('$t$', fontsize = 20)\n",
    "plt.ylabel('Number of infected individuals $N_t$', fontsize = 20)\n",
    "plt.grid()\n",
    "plt.xticks(fontsize = 16)\n",
    "plt.yticks(fontsize = 16)"
   ]
  },
  {
   "cell_type": "code",
   "execution_count": null,
   "metadata": {},
   "outputs": [],
   "source": [
    "# Input parameters:\n",
    "sims = 5      #independent simulations\n",
    "λ = np.arange(1.62,1.69,0.01)\n",
    "L = 256         #number of individuals\n",
    "tmax = 10*L     #maximum runtime\n",
    "steps = 100      #number of output times (multiple recoveries/infections may occur in each delta t - avoid using a growing array)\n",
    "\n",
    "N1 = CP(sims,λ[0],L,tmax,steps)\n",
    "N2 = CP(sims,λ[1],L,tmax,steps)\n",
    "N3 = CP(sims,λ[2],L,tmax,steps)\n",
    "N4 = CP(sims,λ[3],L,tmax,steps)\n",
    "N5 = CP(sims,λ[4],L,tmax,steps)\n",
    "N6 = CP(sims,λ[5],L,tmax,steps)\n",
    "N7 = CP(sims,λ[6],L,tmax,steps)\n",
    "\n",
    "N1 = np.sum(N1,axis=0)/sims\n",
    "N2 = np.sum(N2,axis=0)/sims\n",
    "N3 = np.sum(N3,axis=0)/sims\n",
    "N4 = np.sum(N4,axis=0)/sims\n",
    "N5 = np.sum(N5,axis=0)/sims\n",
    "N6 = np.sum(N6,axis=0)/sims\n",
    "N7 = np.sum(N7,axis=0)/sims"
   ]
  },
  {
   "cell_type": "code",
   "execution_count": null,
   "metadata": {},
   "outputs": [],
   "source": [
    "#plot the results\n",
    "plt.figure(figsize=(10,8))\n",
    "plt.plot(np.arange(0,tmax+1,tmax/steps),N1,label='$\\lambda = 1.62$')\n",
    "plt.plot(np.arange(0,tmax+1,tmax/steps),N2,label='$\\lambda = 1.63$')\n",
    "plt.plot(np.arange(0,tmax+1,tmax/steps),N3,label='$\\lambda = 1.64$')\n",
    "plt.plot(np.arange(0,tmax+1,tmax/steps),N4,label='$\\lambda = 1.65$')\n",
    "plt.plot(np.arange(0,tmax+1,tmax/steps),N5,label='$\\lambda = 1.66$')\n",
    "plt.plot(np.arange(0,tmax+1,tmax/steps),N6,label='$\\lambda = 1.67$')\n",
    "plt.plot(np.arange(0,tmax+1,tmax/steps),N7,label='$\\lambda = 1.68$')\n",
    "plt.xscale('log')\n",
    "plt.yscale('log')\n",
    "plt.legend()\n",
    "plt.xlabel('$t$', fontsize = 20)\n",
    "plt.ylabel('Number of infected individuals $N_t$', fontsize = 20)\n",
    "plt.grid()\n",
    "plt.xticks(fontsize = 16)\n",
    "plt.yticks(fontsize = 16)"
   ]
  },
  {
   "cell_type": "code",
   "execution_count": null,
   "metadata": {},
   "outputs": [],
   "source": [
    "# Input parameters:\n",
    "sims = 5      #independent simulations\n",
    "λ = np.arange(1.62,1.69,0.01)\n",
    "L = 512         #number of individuals\n",
    "tmax = 10*L     #maximum runtime\n",
    "steps = 100      #number of output times (multiple recoveries/infections may occur in each delta t - avoid using a growing array)\n",
    "\n",
    "N1 = CP(sims,λ[0],L,tmax,steps)\n",
    "N2 = CP(sims,λ[1],L,tmax,steps)\n",
    "N3 = CP(sims,λ[2],L,tmax,steps)\n",
    "N4 = CP(sims,λ[3],L,tmax,steps)\n",
    "N5 = CP(sims,λ[4],L,tmax,steps)\n",
    "N6 = CP(sims,λ[5],L,tmax,steps)\n",
    "N7 = CP(sims,λ[6],L,tmax,steps)\n",
    "\n",
    "N1 = np.sum(N1,axis=0)/sims\n",
    "N2 = np.sum(N2,axis=0)/sims\n",
    "N3 = np.sum(N3,axis=0)/sims\n",
    "N4 = np.sum(N4,axis=0)/sims\n",
    "N5 = np.sum(N5,axis=0)/sims\n",
    "N6 = np.sum(N6,axis=0)/sims\n",
    "N7 = np.sum(N7,axis=0)/sims"
   ]
  },
  {
   "cell_type": "code",
   "execution_count": null,
   "metadata": {},
   "outputs": [],
   "source": [
    "#plot the results\n",
    "plt.figure(figsize=(10,8))\n",
    "plt.plot(np.arange(0,tmax+1,tmax/steps),N1,label='$\\lambda = 1.62$')\n",
    "plt.plot(np.arange(0,tmax+1,tmax/steps),N2,label='$\\lambda = 1.63$')\n",
    "plt.plot(np.arange(0,tmax+1,tmax/steps),N3,label='$\\lambda = 1.64$')\n",
    "plt.plot(np.arange(0,tmax+1,tmax/steps),N4,label='$\\lambda = 1.65$')\n",
    "plt.plot(np.arange(0,tmax+1,tmax/steps),N5,label='$\\lambda = 1.66$')\n",
    "plt.plot(np.arange(0,tmax+1,tmax/steps),N6,label='$\\lambda = 1.67$')\n",
    "plt.plot(np.arange(0,tmax+1,tmax/steps),N7,label='$\\lambda = 1.68$')\n",
    "plt.xscale('log')\n",
    "plt.yscale('log')\n",
    "plt.legend()\n",
    "plt.xlabel('$t$', fontsize = 20)\n",
    "plt.ylabel('Number of infected individuals $N_t$', fontsize = 20)\n",
    "plt.grid()\n",
    "plt.xticks(fontsize = 16)\n",
    "plt.yticks(fontsize = 16)"
   ]
  },
  {
   "cell_type": "code",
   "execution_count": null,
   "metadata": {},
   "outputs": [],
   "source": [
    "# Input parameters:\n",
    "sims = 5      #independent simulations\n",
    "λ = np.arange(1.62,1.69,0.01)\n",
    "L = 1024        #number of individuals\n",
    "tmax = 10*L     #maximum runtime\n",
    "steps = 100      #number of output times (multiple recoveries/infections may occur in each delta t - avoid using a growing array)\n",
    "\n",
    "N1 = CP(sims,λ[0],L,tmax,steps)\n",
    "N2 = CP(sims,λ[1],L,tmax,steps)\n",
    "N3 = CP(sims,λ[2],L,tmax,steps)\n",
    "N4 = CP(sims,λ[3],L,tmax,steps)\n",
    "N5 = CP(sims,λ[4],L,tmax,steps)\n",
    "N6 = CP(sims,λ[5],L,tmax,steps)\n",
    "N7 = CP(sims,λ[6],L,tmax,steps)\n",
    "\n",
    "N1 = np.sum(N1,axis=0)/sims\n",
    "N2 = np.sum(N2,axis=0)/sims\n",
    "N3 = np.sum(N3,axis=0)/sims\n",
    "N4 = np.sum(N4,axis=0)/sims\n",
    "N5 = np.sum(N5,axis=0)/sims\n",
    "N6 = np.sum(N6,axis=0)/sims\n",
    "N7 = np.sum(N7,axis=0)/sims"
   ]
  },
  {
   "cell_type": "code",
   "execution_count": null,
   "metadata": {},
   "outputs": [],
   "source": [
    "#plot the results\n",
    "plt.figure(figsize=(10,8))\n",
    "plt.plot(np.arange(0,tmax+1,tmax/steps),N1,label='$\\lambda = 1.62$')\n",
    "plt.plot(np.arange(0,tmax+1,tmax/steps),N2,label='$\\lambda = 1.63$')\n",
    "plt.plot(np.arange(0,tmax+1,tmax/steps),N3,label='$\\lambda = 1.64$')\n",
    "plt.plot(np.arange(0,tmax+1,tmax/steps),N4,label='$\\lambda = 1.65$')\n",
    "plt.plot(np.arange(0,tmax+1,tmax/steps),N5,label='$\\lambda = 1.66$')\n",
    "plt.plot(np.arange(0,tmax+1,tmax/steps),N6,label='$\\lambda = 1.67$')\n",
    "plt.plot(np.arange(0,tmax+1,tmax/steps),N7,label='$\\lambda = 1.68$')\n",
    "plt.xscale('log')\n",
    "plt.yscale('log')\n",
    "plt.legend()\n",
    "plt.xlabel('$t$', fontsize = 20)\n",
    "plt.ylabel('Number of infected individuals $N_t$', fontsize = 20)\n",
    "plt.grid()\n",
    "plt.xticks(fontsize = 16)\n",
    "plt.yticks(fontsize = 16)"
   ]
  },
  {
   "cell_type": "markdown",
   "metadata": {},
   "source": [
    "#### Question 2(a)(ii)\n",
    "\n",
    "Plot your estimates of $\\lambda_c (L)$ with error bars $\\pm 0.01$ against $1/L$. Extrapolate to $1/L \\rightarrow 0$ to get an estimate of $\\lambda_c = \\lambda_c (\\infty)$ with a reasonable error bar.\n",
    "\n",
    "This approach is called finite size scaling, in order to correct for systematic finite size\n",
    "effects which influence the critical value."
   ]
  },
  {
   "cell_type": "code",
   "execution_count": null,
   "metadata": {},
   "outputs": [],
   "source": [
    "# Input parameters:\n",
    "L = np.array([128,256,512,1024])\n",
    "λc = np.array([1.65,1.63,1.621,1.62])  # <-- supposed to find these from plots above\n",
    "errors = 0.01*np.ones((4,1))\n",
    "\n",
    "#plot the results\n",
    "plt.figure(figsize=(10,8))\n",
    "plt.errorbar(1/L,λc,yerr = errors, fmt = 'ok', mew = 3)\n",
    "plt.plot(1/L,λc,'-ok')\n",
    "# plt.xscale('log')\n",
    "# plt.yscale('log')\n",
    "plt.xlabel('$1/L$', fontsize = 20)\n",
    "plt.ylabel('$\\lambda_c$', fontsize = 20)\n",
    "plt.grid()\n",
    "plt.xticks(fontsize = 16)\n",
    "plt.yticks(fontsize = 16)"
   ]
  },
  {
   "cell_type": "markdown",
   "metadata": {},
   "source": [
    "#### Question 2(b)(i)\n",
    "\n",
    "Let T be the hitting time of the absorbing state $\\mathbf{\\eta} = \\mathbf{0}$, i.e. the lifetime of the infection. Measure the lifetime of the infection for λ = 1 and λ = 1.8 by running the process until extinction of the epidemic."
   ]
  },
  {
   "cell_type": "code",
   "execution_count": null,
   "metadata": {},
   "outputs": [],
   "source": [
    "# adapt CP above to find the extinction time\n",
    "\n",
    "#Input parameters:\n",
    "#sims = 10      #number of independent simulations\n",
    "#λ = 1.62       #rate of infection\n",
    "#L = 128        #number of individuals (states)\n",
    "\n",
    "\n",
    "def CPextinction(sims,λ,L):\n",
    "\n",
    "    #store extinction times after each simulation\n",
    "    T = np.zeros((sims,1))\n",
    "\n",
    "    # loop for each simulation\n",
    "    for i in range(0,sims):\n",
    "        \n",
    "        #while loop to simuate Gillespie algorithm\n",
    "        t = 0                    #initial time\n",
    "        k = 1                    #time chunk counter\n",
    "        state = np.ones((L,))    #current state of population (initially all infected)\n",
    "        total_infec = L          #we only care about total infected\n",
    "        while total_infec > 0:\n",
    "                            \n",
    "            #shifts the current state to use the formula above (incorporating BCs)\n",
    "            state_plus = np.append(state[1:L],state[0])\n",
    "            state_minus = np.append(state[L-1],state[0:L-1]) \n",
    "\n",
    "            #find contact rates for each state\n",
    "            C = state + λ*(1 - state)*(state_plus + state_minus)\n",
    "            R = np.sum(C)    #total rate\n",
    "            p = C/R          #probabilities of flipping\n",
    "\n",
    "            #select a state at random according to the probabilities\n",
    "            index = np.random.choice(range(0,L),1,replace=True,p = p)\n",
    "\n",
    "            #flip the state\n",
    "            state[index] = 1 - state[index]\n",
    "\n",
    "            #increase the time (i.e. when the event occured)\n",
    "            t = t + np.random.exponential(1/R)\n",
    "\n",
    "            #find total infections at current state\n",
    "            total_infec = np.sum(state)        \n",
    "        \n",
    "        #store extinction time\n",
    "        T[i,:] = t\n",
    "            \n",
    "\n",
    "    return T"
   ]
  },
  {
   "cell_type": "code",
   "execution_count": null,
   "metadata": {},
   "outputs": [],
   "source": [
    "# Test:\n",
    "sims = 5      #independent simulations\n",
    "λ = 1         #rate of infection\n",
    "L = 128       #number of individuals\n",
    "\n",
    "T = CPextinction(sims,λ,L)\n",
    "print(T)\n",
    "print('Average = ',np.mean(T))"
   ]
  },
  {
   "cell_type": "markdown",
   "metadata": {},
   "source": [
    "Use large system sizes e.g. L = 128, 256, 512, 1024 (or larger), confirm that $\\mathbb{E}(T)$ scales like $\\log(L)$ and determine $C$ by averaging at least 200 realizations of $T$ for each $L$ (takes a long time to run for 200 sims!)."
   ]
  },
  {
   "cell_type": "code",
   "execution_count": null,
   "metadata": {},
   "outputs": [],
   "source": [
    "sims = 10      #independent simulations\n",
    "λ = 1           #rate of infection\n",
    "L1 = np.array([128,256,512,1024])       #number of individuals\n",
    "\n",
    "T1 = CPextinction(sims,λ,L1[0])\n",
    "T11 = np.mean(T1)\n",
    "T2 = CPextinction(sims,λ,L1[1])\n",
    "T22 = np.mean(T2)\n",
    "T3 = CPextinction(sims,λ,L1[2])\n",
    "T33 = np.mean(T3)\n",
    "T4 = CPextinction(sims,λ,L1[3])\n",
    "T44 = np.mean(T4)"
   ]
  },
  {
   "cell_type": "code",
   "execution_count": null,
   "metadata": {},
   "outputs": [],
   "source": [
    "#plot the results\n",
    "plt.figure(figsize=(10,8))\n",
    "plt.plot(L1, np.array([T11,T22,T33,T44]),'-ob',label='Empirical values')\n",
    "#plt.plot(L1, 10000*np.log(L1),label='$C = 10000$ in $C \\log(L)$')\n",
    "#plt.plot(L1, 50000*np.log(L1),label='$C = 50000$ in $C \\log(L)$')\n",
    "#plt.plot(L1, 100000*np.log(L1),label='$C = 100000$ in $C \\log(L)$')\n",
    "\n",
    "plt.yscale('log')\n",
    "plt.legend()\n",
    "plt.xlabel('$L$', fontsize = 20)\n",
    "plt.ylabel('$\\mathbb{E}(T)$', fontsize = 20)\n",
    "plt.grid()\n",
    "plt.xticks(fontsize = 16)\n",
    "plt.yticks(fontsize = 16)"
   ]
  },
  {
   "cell_type": "markdown",
   "metadata": {},
   "source": [
    "#### Question 2(b)(ii)\n",
    "\n",
    "Then shift your data $T_i$ for each $L$ by $T_i − \\mathbb{E}(T)$ and plot the ‘empirical tail’ of the distribution of the shifted data, comparing to the Gumbel distribution (all in one plot with log-scale on the y-axis).\n",
    "\n",
    "Recall: The empirical tail of data $T = (T_1,\\dots,T_M)$ is the statistic tail $tail(T) =\n",
    "(1/M) \\sum_{i=1}^M \\mathbb{1}_{T_i > t}$. This decays from 1 to 0 as a (random) function of time t.\n",
    "\n",
    "Look up the Gumbel distribution on Wikipedia - with mean 0 only one parameter needs fitting. Discuss why this could be a good model for the noise here (check google for extreme value statistics)\n",
    "\n",
    "Need more simulations to see larger $L$ converge to Gumbel."
   ]
  },
  {
   "cell_type": "code",
   "execution_count": null,
   "metadata": {
    "scrolled": false
   },
   "outputs": [],
   "source": [
    "shift_T1 = T1 - T11\n",
    "shift_T2 = T2 - T22\n",
    "shift_T3 = T3 - T33\n",
    "shift_T4 = T4 - T44  \n",
    "\n",
    "tt = np.arange(-1000000,1000000+1,1000)\n",
    "\n",
    "\n",
    "Tail_T1 = np.zeros((len(tt),1))\n",
    "Tail_T2 = np.zeros((len(tt),1))\n",
    "Tail_T3 = np.zeros((len(tt),1))\n",
    "Tail_T4 = np.zeros((len(tt),1))\n",
    "for i in range(0,len(tt)):\n",
    "    Tail_T1[i] = (1/sims)*np.sum(shift_T1 > tt[i])\n",
    "    Tail_T2[i] = (1/sims)*np.sum(shift_T2 > tt[i])\n",
    "    Tail_T3[i] = (1/sims)*np.sum(shift_T3 > tt[i])\n",
    "    Tail_T4[i] = (1/sims)*np.sum(shift_T4 > tt[i])\n",
    "    \n",
    "\n",
    "#plot the results\n",
    "plt.figure(figsize=(10,8))\n",
    "plt.plot(tt,Tail_T1,label='$L = 128$')\n",
    "plt.plot(tt,Tail_T2,label='$L = 256$')\n",
    "plt.plot(tt,Tail_T3,label='$L = 512$')\n",
    "plt.plot(tt,Tail_T4,label='$L = 1024$')\n",
    "plt.plot(tt,np.exp(-np.exp(tt/1)),'k',label='Gumbell CDF with beta = 1')\n",
    "plt.legend()\n",
    "plt.xlabel('$t$', fontsize = 20)\n",
    "plt.ylabel('Empirical tail distribution', fontsize = 20)\n",
    "plt.grid()\n",
    "plt.xticks(fontsize = 16)\n",
    "plt.yticks(fontsize = 16)"
   ]
  },
  {
   "cell_type": "markdown",
   "metadata": {},
   "source": [
    "#### Question 2(c)(i)\n",
    "\n",
    "For $\\lambda = 1.8 > \\lambda_c$ we expect $T \\sim Exp(1/\\mu)$ to be an exponential random variable with mean $\\mu = \\mathbb{E}(T) \\varpropto e^{CL}$ for some $C>0$. \n",
    "\n",
    "\n",
    "Use *small* system sizes e.g. $L = 8, 10, 12, 14$ (see how far you can go), and\n",
    "confirm that $\\mathbb{E}(T)$ scales like $e^{CL}$. Determine $C$ by averaging at least 200 realizations of $T$ (takes a while to run for 200 sims!)."
   ]
  },
  {
   "cell_type": "code",
   "execution_count": null,
   "metadata": {},
   "outputs": [],
   "source": [
    "sims = 5      #independent simulations\n",
    "λ = 1.8         #rate of infection\n",
    "L2 = np.array([8,10,12,14,16,18])       #number of individuals\n",
    "\n",
    "TT1 = CPextinction(sims,λ,L2[0])\n",
    "TT11 = np.mean(TT1)\n",
    "TT2 = CPextinction(sims,λ,L2[1])\n",
    "TT22 = np.mean(TT2)\n",
    "TT3 = CPextinction(sims,λ,L2[2])\n",
    "TT33 = np.mean(TT3)\n",
    "TT4 = CPextinction(sims,λ,L2[3])\n",
    "TT44 = np.mean(TT4)\n",
    "TT5 = CPextinction(sims,λ,L2[4])\n",
    "TT55 = np.mean(TT5)\n",
    "TT6 = CPextinction(sims,λ,L2[5])\n",
    "TT66 = np.mean(TT6)"
   ]
  },
  {
   "cell_type": "code",
   "execution_count": null,
   "metadata": {},
   "outputs": [],
   "source": [
    "#plot the results\n",
    "plt.figure(figsize=(10,8))\n",
    "plt.plot(L2, np.array([TT11,TT22,TT33,TT44,TT55,TT66]),'-ob',label='Empirical values')\n",
    "plt.plot(L2, np.exp(0.3*L2 + 1),label='$ e^{0.3*L + 1}$')\n",
    "plt.yscale('log')\n",
    "plt.legend()\n",
    "plt.xlabel('$L$', fontsize = 20)\n",
    "plt.ylabel('$\\mathbb{E}(T)$', fontsize = 20)\n",
    "plt.grid()\n",
    "plt.xticks(fontsize = 16)\n",
    "plt.yticks(fontsize = 16)"
   ]
  },
  {
   "cell_type": "markdown",
   "metadata": {},
   "source": [
    "#### Question 2(c)(ii)\n",
    "\n",
    "Then rescale your data $T_i$ for each $L$ by $T_i/\\mathbb{E}(T)$ and plot the ‘empirical tail’ of the distribution of the rescaled data, comparing to the theoretical tail $e^{−t}$ (all in one plot with log-scale on the y-axis).\n",
    "\n"
   ]
  },
  {
   "cell_type": "code",
   "execution_count": null,
   "metadata": {},
   "outputs": [],
   "source": [
    "scale_T1 = TT1/TT11\n",
    "scale_T2 = TT2/TT22\n",
    "scale_T3 = TT3/TT33\n",
    "scale_T4 = TT4/TT44 \n",
    "scale_T5 = TT5/TT55 \n",
    "scale_T6 = TT6/TT66 \n",
    "\n",
    "t = np.arange(0,8+1,0.01)\n",
    "\n",
    "\n",
    "tail_T1 = np.zeros((len(t),1))\n",
    "tail_T2 = np.zeros((len(t),1))\n",
    "tail_T3 = np.zeros((len(t),1))\n",
    "tail_T4 = np.zeros((len(t),1))\n",
    "tail_T5 = np.zeros((len(t),1))\n",
    "tail_T6 = np.zeros((len(t),1))\n",
    "for i in range(0,len(t)):\n",
    "    tail_T1[i] = (1/sims)*np.sum(scale_T1 > t[i])\n",
    "    tail_T2[i] = (1/sims)*np.sum(scale_T2 > t[i])\n",
    "    tail_T3[i] = (1/sims)*np.sum(scale_T3 > t[i])\n",
    "    tail_T4[i] = (1/sims)*np.sum(scale_T4 > t[i])\n",
    "    tail_T5[i] = (1/sims)*np.sum(scale_T5 > t[i])\n",
    "    tail_T6[i] = (1/sims)*np.sum(scale_T6 > t[i])\n",
    "    \n",
    "\n",
    "#plot the results\n",
    "plt.figure(figsize=(10,8))\n",
    "plt.plot(t,tail_T1,label='$L = 8$')\n",
    "plt.plot(t,tail_T2,label='$L = 10$')\n",
    "plt.plot(t,tail_T3,label='$L = 12$')\n",
    "plt.plot(t,tail_T4,label='$L = 14$')\n",
    "plt.plot(t,tail_T5,label='$L = 16$')\n",
    "plt.plot(t,tail_T6,label='$L = 18$')\n",
    "plt.plot(t,np.exp(-t),label='$e^{-t}$')\n",
    "plt.legend()\n",
    "plt.xlabel('$t$', fontsize = 20)\n",
    "plt.ylabel('Empirical tail distribution', fontsize = 20)\n",
    "plt.grid()\n",
    "plt.xticks(fontsize = 16)\n",
    "plt.yticks(fontsize = 16)"
   ]
  },
  {
   "cell_type": "code",
   "execution_count": null,
   "metadata": {},
   "outputs": [],
   "source": []
  },
  {
   "cell_type": "code",
   "execution_count": null,
   "metadata": {},
   "outputs": [],
   "source": []
  }
 ],
 "metadata": {
  "kernelspec": {
   "display_name": "Python 3",
   "language": "python",
   "name": "python3"
  },
  "language_info": {
   "codemirror_mode": {
    "name": "ipython",
    "version": 3
   },
   "file_extension": ".py",
   "mimetype": "text/x-python",
   "name": "python",
   "nbconvert_exporter": "python",
   "pygments_lexer": "ipython3",
   "version": "3.8.8"
  }
 },
 "nbformat": 4,
 "nbformat_minor": 2
}
